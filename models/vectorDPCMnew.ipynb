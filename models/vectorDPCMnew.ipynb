{
 "metadata": {
  "name": "",
  "signature": "sha256:b41596ed0df2fe19b6f022323ee137ea922adc08a7b5784df4edc98984940f07"
 },
 "nbformat": 3,
 "nbformat_minor": 0,
 "worksheets": [
  {
   "cells": [
    {
     "cell_type": "code",
     "collapsed": false,
     "input": [
      "import matplotlib as mpl\n",
      "mpl.use('Agg')\n",
      "import matplotlib.pyplot as plt\n",
      "from dpcmFunctions import dpcmBinenco,dpcmBindeco\n",
      "import pandas as pd\n",
      "import numpy as np\n",
      "from statsmodels.tsa.vector_ar import var_model\n",
      "from statsmodels.tsa import ar_model\n",
      "from scipy.cluster.vq import *\n",
      "from sklearn.linear_model import LinearRegression\n",
      "import warnings"
     ],
     "language": "python",
     "metadata": {},
     "outputs": [],
     "prompt_number": 161
    },
    {
     "cell_type": "code",
     "collapsed": false,
     "input": [
      "# get outside temp data\n",
      "df = pd.read_csv('../../data/Outside Weather_Temperature.csv', index_col=False, header=1,low_memory=False);\n",
      "df.columns=['TimeStamp','Temperature']\n",
      "df['TimeStamp']=pd.to_datetime(df['TimeStamp'])\n",
      "df=df.set_index(['TimeStamp'])\n",
      "df=df.Temperature.resample('5min')\n",
      "df=pd.DataFrame(list(df.values), index=df.index)\n",
      "df.columns=['Temperature']\n",
      "tempData=df.fillna(method='bfill')\n",
      "tempData=tempData.fillna(method='ffill')"
     ],
     "language": "python",
     "metadata": {},
     "outputs": [],
     "prompt_number": 162
    },
    {
     "cell_type": "code",
     "collapsed": false,
     "input": [
      "# compress and decompress outside temp data\n",
      "order=2\n",
      "sig=np.array(tempData['Temperature'])\n",
      "nCodeWords=16\n",
      "# learn ar model of order ord\n",
      "comp = dpcmBinenco(sig,order,nCodeWords)\n",
      "# decode\n",
      "decodedx = dpcmBindeco(comp)\n"
     ],
     "language": "python",
     "metadata": {},
     "outputs": [],
     "prompt_number": 163
    },
    {
     "cell_type": "code",
     "collapsed": false,
     "input": [
      "plt.plot(sig)\n",
      "plt.plot(decodedx)\n",
      "plt.show()\n",
      "plt.legend(['Original Signal','Decoded Signal'])\n",
      "print \"Original Size : \" + str(32*len(sig)) + \" Bits\"\n",
      "print \"Compressed Size : \" + str(len(comp)) + \" Bits\"\n",
      "print \"Compression Ratio : \" + str(float(32*len(sig))/len(comp)) + \" Bits\"\n",
      "print \"Average Distortion : \" + str(sum((sig-decodedx)**2)/len(sig))"
     ],
     "language": "python",
     "metadata": {},
     "outputs": [
      {
       "output_type": "stream",
       "stream": "stdout",
       "text": [
        "Original Size : 1585472 Bits\n",
        "Compressed Size : 198840 Bits\n",
        "Compression Ratio : 7.97360692014 Bits\n",
        "Average Distortion : 0.444049671351\n"
       ]
      }
     ],
     "prompt_number": 164
    },
    {
     "cell_type": "code",
     "collapsed": false,
     "input": [
      "df=pd.read_pickle('../../data/BD_DATA/FourthFloor.pkl')"
     ],
     "language": "python",
     "metadata": {},
     "outputs": [],
     "prompt_number": 165
    },
    {
     "cell_type": "code",
     "collapsed": false,
     "input": [
      "ndf=df.ix['Zone Temperature_PresentValue']\n",
      "ndf=ndf.T\n",
      "ndf=ndf.fillna(method='bfill')\n",
      "ndf=ndf.fillna(method='ffill')\n",
      "ndf=ndf.T\n",
      "ondf=ndf\n",
      "ndf=ndf.head(n=2)\n",
      "ndf=ndf.fillna(0)\n",
      "sig=ndf;\n",
      "# replace first row by external temperature\n",
      "ndf.iloc[0][2:]=tempData.T.iloc[0]\n",
      "ndf.iloc[0][0:2]=62.5"
     ],
     "language": "python",
     "metadata": {},
     "outputs": [],
     "prompt_number": 166
    },
    {
     "cell_type": "code",
     "collapsed": false,
     "input": [
      "row=1\n",
      "nCodeWords=16"
     ],
     "language": "python",
     "metadata": {},
     "outputs": [],
     "prompt_number": 167
    },
    {
     "cell_type": "code",
     "collapsed": false,
     "input": [
      "fMat=np.zeros((7,len_sig))\n",
      "indx= [int(0)] * len_sig\n",
      "quanterr=np.zeros(len_sig)\n",
      "err=np.zeros(len_sig)\n",
      "inp=np.zeros(nFeat)\n",
      "inp[0]=1\n",
      "for i in xrange(order,len_sig-1):\n",
      "    inp[1]=sig.iloc[0][i-1]\n",
      "    inp[3]=sig.iloc[0][i]\n",
      "    inp[4]=sig.iloc[0][i-2]\n",
      "    inp[6]=sig.iloc[0][i+1]\n",
      "    fMat[:,i]=inp\n",
      "    inp[5]=inp[2]\n",
      "    inp[2] =sig.iloc[row][i] \n",
      "y= sig.iloc[row]\n",
      "regression = np.dot(y,np.dot(X.T,np.linalg.inv(np.dot(X,X.T))))\n",
      "reg[row]=regression"
     ],
     "language": "python",
     "metadata": {},
     "outputs": [],
     "prompt_number": 168
    },
    {
     "cell_type": "code",
     "collapsed": false,
     "input": [
      "preds=np.dot(reg[row],fMat)\n",
      "err=np.array(sig.iloc[row]) - preds\n",
      "flag=1\n",
      "while flag:\n",
      "    with warnings.catch_warnings(record=True) as w:\n",
      "        codebook, idx = kmeans2(err,nCodeWords)\n",
      "        if len(w)==0:\n",
      "            flag=0\n",
      "codebook.sort()\n",
      "en=len(codebook)\n",
      "partition=(codebook[1:en]+codebook[0:en-1])/2\n",
      "partition.sort()"
     ],
     "language": "python",
     "metadata": {},
     "outputs": [],
     "prompt_number": 169
    },
    {
     "cell_type": "code",
     "collapsed": false,
     "input": [
      "indx= [int(0)] * len_sig\n",
      "quanterr=np.zeros(len_sig)\n",
      "err=np.zeros(len_sig)\n",
      "inp=np.zeros(nFeat)\n",
      "inp[0]=1\n",
      "for i in xrange(order,len_sig-1):\n",
      "    inp[1]=sig.iloc[0][i-1]\n",
      "    inp[3]=sig.iloc[0][i]\n",
      "    inp[4]=sig.iloc[0][i-2]\n",
      "    inp[6]=sig.iloc[0][i+1]\n",
      "    out=np.dot(inp,reg[row])\n",
      "    e = sig.iloc[row][i] - out\n",
      "    indx[i] = sum(partition<e)\n",
      "    quanterr[i] = codebook[indx[i]]\n",
      "    inp[5]=inp[2]\n",
      "    inp[2] = quanterr[i] + out;\n",
      "    "
     ],
     "language": "python",
     "metadata": {},
     "outputs": []
    },
    {
     "cell_type": "code",
     "collapsed": false,
     "input": [
      "len_sig = len(indx)\n",
      "quanterr = codebook[indx]\n",
      "nSig=np.zeros_like(quanterr)\n",
      "inp=np.zeros(nFeat)\n",
      "inp[0]=1\n",
      "for i in xrange(order,len_sig-1):\n",
      "    inp[1]=sig.iloc[0][i-1]\n",
      "    inp[3]=sig.iloc[0][i]\n",
      "    inp[4]=sig.iloc[0][i-2]\n",
      "    inp[6]=sig.iloc[0][i+1] \n",
      "    out=np.dot(inp,reg[row])\n",
      "    nSig[i] = quanterr[i] + out;\n",
      "    inp[5]=inp[2]\n",
      "    inp[2] = quanterr[i] + out;"
     ],
     "language": "python",
     "metadata": {},
     "outputs": []
    },
    {
     "cell_type": "code",
     "collapsed": false,
     "input": [
      "err=nSig-sig.iloc[row]\n",
      "distor=np.sqrt(sum(np.array(err) * np.array(err)))\n",
      "distor"
     ],
     "language": "python",
     "metadata": {},
     "outputs": []
    },
    {
     "cell_type": "code",
     "collapsed": false,
     "input": [
      "baseVar=np.sqrt(sum(np.array(sig.iloc[row]) * np.array(sig.iloc[row])))\n",
      "baseVar"
     ],
     "language": "python",
     "metadata": {},
     "outputs": []
    },
    {
     "cell_type": "code",
     "collapsed": false,
     "input": [
      "# compress and decompress outside temp data\n",
      "newSig=np.array(sig.iloc[row])\n",
      "# learn ar model of order ord\n",
      "comp = dpcmBinenco(newSig,order,nCodeWords)\n",
      "# decode\n",
      "decodedx = dpcmBindeco(comp)\n",
      "err=decodedx-newSig\n",
      "distor=np.sqrt(sum(np.array(err) * np.array(err)))\n",
      "distor"
     ],
     "language": "python",
     "metadata": {},
     "outputs": []
    },
    {
     "cell_type": "code",
     "collapsed": false,
     "input": [
      "len(err)"
     ],
     "language": "python",
     "metadata": {},
     "outputs": []
    },
    {
     "cell_type": "code",
     "collapsed": false,
     "input": [],
     "language": "python",
     "metadata": {},
     "outputs": []
    }
   ],
   "metadata": {}
  }
 ]
}