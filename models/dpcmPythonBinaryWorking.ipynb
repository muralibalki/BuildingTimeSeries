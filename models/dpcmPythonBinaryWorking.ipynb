{
 "metadata": {
  "name": ""
 },
 "nbformat": 3,
 "nbformat_minor": 0,
 "worksheets": [
  {
   "cells": [
    {
     "cell_type": "code",
     "collapsed": false,
     "input": [
      "from scipy import signal\n",
      "import matplotlib.pyplot as plt\n",
      "from statsmodels.tsa import ar_model\n",
      "from scipy.cluster.vq import *\n",
      "import struct\n",
      "import binascii\n",
      "from bitstring import BitArray"
     ],
     "language": "python",
     "metadata": {},
     "outputs": [],
     "prompt_number": 46
    },
    {
     "cell_type": "code",
     "collapsed": false,
     "input": [
      "nCodeWords=2;\n",
      "# learn ar model or order ord\n",
      "order=2; #ar model order "
     ],
     "language": "python",
     "metadata": {},
     "outputs": [],
     "prompt_number": 47
    },
    {
     "cell_type": "code",
     "collapsed": false,
     "input": [
      "t = np.linspace(0, 1, 101)\n",
      "sig=signal.sawtooth(2 * np.pi * 5 * t)\n",
      "plt.plot(t,sig)"
     ],
     "language": "python",
     "metadata": {},
     "outputs": [
      {
       "metadata": {},
       "output_type": "pyout",
       "prompt_number": 48,
       "text": [
        "[<matplotlib.lines.Line2D at 0x7fdaeecf2bd0>]"
       ]
      },
      {
       "metadata": {},
       "output_type": "display_data",
       "png": "[encoded data removed]",
       "text": [
        "<matplotlib.figure.Figure at 0x7fdaeee7e990>"
       ]
      }
     ],
     "prompt_number": 48
    },
    {
     "cell_type": "code",
     "collapsed": false,
     "input": [
      "def dpcmopt(sig,order,nCodeWords):\n",
      "    am=ar_model.AR(sig)\n",
      "    predictor=am.fit(order)\n",
      "    leng=len(sig)\n",
      "    preds=predictor.predict(order,leng)\n",
      "    preds=np.append(np.zeros(order-1),preds)\n",
      "    err=sig-preds;\n",
      "    codebook, idx = kmeans2(err,nCodeWords)\n",
      "    codebook=sort(codebook);\n",
      "    en=len(codebook)\n",
      "    partition=sort((codebook[1:en]+codebook[0:en-1])/2);\n",
      "    res=err\n",
      "    return (partition, codebook, predictor)"
     ],
     "language": "python",
     "metadata": {},
     "outputs": [],
     "prompt_number": 49
    },
    {
     "cell_type": "code",
     "collapsed": false,
     "input": [
      "def dpcmencoAfterOpt(partition, codebook, predictor,sig):\n",
      "    order = len(predictor.params)-1\n",
      "    len_sig=len(sig)\n",
      "    x=np.zeros(order)\n",
      "    indx= [0] * len_sig\n",
      "    quanterr=np.zeros(len_sig)\n",
      "    for i in xrange(order,len_sig):\n",
      "        out =  sum(np.append(1,x)*predictor.params)\n",
      "        e = sig[i] - out\n",
      "        indx[i] = sum(partition<e)\n",
      "        quanterr[i] = codebook[indx[i]]\n",
      "        inp = quanterr[i] + out;\n",
      "        x = np.append(inp,x[0:order-1])\n",
      "    return indx"
     ],
     "language": "python",
     "metadata": {},
     "outputs": [],
     "prompt_number": 50
    },
    {
     "cell_type": "code",
     "collapsed": false,
     "input": [
      "def bitPackDPCMModel(order,predictor,nCodeWords,codebook,sigLen,encodedx):\n",
      "    a=BitArray(uint=order, length=8)\n",
      "    b=BitArray().join(BitArray(float=x, length=32) for x in predictor.params)\n",
      "    a.append(b)\n",
      "    a.append(BitArray(uint=int(nCodeWords), length=8))\n",
      "    b=BitArray().join(BitArray(float=x, length=32) for x in codebook)\n",
      "    a.append(b)\n",
      "    a.append(BitArray(uint=int(sigLen), length=8))\n",
      "    nBits=int(np.ceil(np.log2(nCodeWords)));\n",
      "    b=BitArray().join(BitArray(uint=x, length=nBits) for x in encodedx)\n",
      "    a.append(b)\n",
      "    return(a)"
     ],
     "language": "python",
     "metadata": {},
     "outputs": [],
     "prompt_number": 71
    },
    {
     "cell_type": "code",
     "collapsed": false,
     "input": [
      "def dpcmBinenco(sig,order,nCodeWords):\n",
      "    partition, codebook, predictor = dpcmopt(sig,order,nCodeWords)\n",
      "    indx = dpcmencoAfterOpt(partition, codebook, predictor,sig)\n",
      "    sigLen=len(sig);\n",
      "    a=bitPackDPCMModel(order,predictor,nCodeWords,codebook,sigLen,encodedx)\n",
      "    return (a)"
     ],
     "language": "python",
     "metadata": {},
     "outputs": [],
     "prompt_number": 66
    },
    {
     "cell_type": "code",
     "collapsed": false,
     "input": [
      "def bitUnPackDPCMModel(a):\n",
      "    pos=0\n",
      "    order=a[0:8].int\n",
      "    pos+=8\n",
      "    string_blocks = (a[i:i+32] for i in range(pos, pos+32*(order+1), 32))\n",
      "    params=np.zeros(order+1)\n",
      "    count=0\n",
      "    for fl in string_blocks:\n",
      "        pos+=32\n",
      "        params[count]=fl.float\n",
      "        count+=1\n",
      "    nCodeWords=a[pos:pos+8].int\n",
      "    pos+=8\n",
      "    string_blocks = (a[i:i+32] for i in range(pos, pos+32*(nCodeWords), 32))\n",
      "    codebook=np.zeros(nCodeWords)\n",
      "    count=0\n",
      "    for fl in string_blocks:\n",
      "        pos+=32\n",
      "        codebook[count]=fl.float\n",
      "        count+=1\n",
      "    sigLen=a[pos:pos+8].int\n",
      "    pos+=8\n",
      "    nBits=int(np.ceil(np.log2(nCodeWords)));\n",
      "    string_blocks = (a[i:i+nBits] for i in range(pos, pos+nBits*(sigLen), nBits))\n",
      "    encodedx=np.zeros(sigLen)\n",
      "    count=0\n",
      "    for fl in string_blocks:\n",
      "        pos+=nBits\n",
      "        encodedx[count]=fl.uint\n",
      "        count+=1\n",
      "    am=ar_model.AR(range(0,sigLen))\n",
      "    predictor=am.fit(order)\n",
      "    predictor.params=params\n",
      "    return (codebook, predictor,encodedx)"
     ],
     "language": "python",
     "metadata": {},
     "outputs": [],
     "prompt_number": 53
    },
    {
     "cell_type": "code",
     "collapsed": false,
     "input": [
      "def dpcmdeco(codebook, predictor,indx):\n",
      "    indx=indx.astype(int)\n",
      "    order = len(predictor.params)-1\n",
      "    len_sig = len(indx)\n",
      "    quanterr = codebook[indx]\n",
      "    nSig=np.zeros_like(quanterr)\n",
      "    x = np.zeros(order);\n",
      "    for i in xrange(0,len_sig):\n",
      "        out = sum(np.append(1,x)*predictor.params)\n",
      "        nSig[i] = quanterr[i] + out;\n",
      "        x = np.append(nSig[i], x[0:order-1])\n",
      "    return(nSig)"
     ],
     "language": "python",
     "metadata": {},
     "outputs": [],
     "prompt_number": 54
    },
    {
     "cell_type": "code",
     "collapsed": false,
     "input": [
      "def dpcmBindeco(a):\n",
      "    codebook, predictor,encodedx = bitUnPackDPCMModel(a)\n",
      "    nSig = dpcmdeco(codebook, predictor,encodedx)\n",
      "    return(nSig)"
     ],
     "language": "python",
     "metadata": {},
     "outputs": [],
     "prompt_number": 68
    },
    {
     "cell_type": "code",
     "collapsed": false,
     "input": [
      "comp = dpcmBinenco(sig,order,nCodeWords)\n",
      "decodedx = dpcmBindeco(comp)"
     ],
     "language": "python",
     "metadata": {},
     "outputs": [],
     "prompt_number": 72
    },
    {
     "cell_type": "code",
     "collapsed": false,
     "input": [
      "plot(sig)\n",
      "plot(decodedx)\n",
      "legend(['Original Signal','Decoded Signal'])"
     ],
     "language": "python",
     "metadata": {},
     "outputs": [
      {
       "metadata": {},
       "output_type": "pyout",
       "prompt_number": 73,
       "text": [
        "<matplotlib.legend.Legend at 0x7fdaeec8aad0>"
       ]
      },
      {
       "metadata": {},
       "output_type": "display_data",
       "png": "[encoded data removed]",
       "text": [
        "<matplotlib.figure.Figure at 0x7fdaeed21050>"
       ]
      }
     ],
     "prompt_number": 73
    },
    {
     "cell_type": "code",
     "collapsed": false,
     "input": [
      "distor = sum((sig-decodedx)**2)/len(sig)\n",
      "distor"
     ],
     "language": "python",
     "metadata": {},
     "outputs": [
      {
       "metadata": {},
       "output_type": "pyout",
       "prompt_number": 74,
       "text": [
        "0.14709348954487042"
       ]
      }
     ],
     "prompt_number": 74
    }
   ],
   "metadata": {}
  }
 ]
}