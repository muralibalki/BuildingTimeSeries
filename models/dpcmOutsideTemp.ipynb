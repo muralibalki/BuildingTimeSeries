{
 "metadata": {
  "name": ""
 },
 "nbformat": 3,
 "nbformat_minor": 0,
 "worksheets": [
  {
   "cells": [
    {
     "cell_type": "code",
     "collapsed": false,
     "input": [
      "from scipy import signal\n",
      "import matplotlib.pyplot as plt\n",
      "from statsmodels.tsa import ar_model\n",
      "from scipy.cluster.vq import *\n",
      "import struct\n",
      "import binascii\n",
      "from bitstring import BitArray\n",
      "import pandas as pd\n",
      "import warnings"
     ],
     "language": "python",
     "metadata": {},
     "outputs": [],
     "prompt_number": 45
    },
    {
     "cell_type": "code",
     "collapsed": false,
     "input": [
      "def dpcmopt(sig,order,nCodeWords):\n",
      "    am=ar_model.AR(sig)\n",
      "    predictor=am.fit(order)\n",
      "    leng=len(sig)\n",
      "    preds=predictor.predict(order,leng)\n",
      "    preds=np.append(np.zeros(order-1),preds)\n",
      "    err=sig-preds;\n",
      "    flag = 1\n",
      "    while flag:\n",
      "        with warnings.catch_warnings(record=True) as w:\n",
      "            codebook, idx = kmeans2(err,nCodeWords)\n",
      "            if len(w)==0:\n",
      "                flag=0\n",
      "                #print \"Success!\"\n",
      "    codebook=sort(codebook);\n",
      "    en=len(codebook)\n",
      "    partition=sort((codebook[1:en]+codebook[0:en-1])/2);\n",
      "    res=err\n",
      "    return (partition, codebook, predictor)"
     ],
     "language": "python",
     "metadata": {},
     "outputs": [],
     "prompt_number": 73
    },
    {
     "cell_type": "code",
     "collapsed": false,
     "input": [
      "def dpcmencoAfterOpt(partition, codebook, predictor,sig):\n",
      "    order = len(predictor.params)-1\n",
      "    len_sig=len(sig)\n",
      "    x=np.zeros(order)\n",
      "    indx= [0] * len_sig\n",
      "    quanterr=np.zeros(len_sig)\n",
      "    for i in xrange(order,len_sig):\n",
      "        out =  sum(np.append(1,x)*predictor.params)\n",
      "        e = sig[i] - out\n",
      "        indx[i] = sum(partition<e)\n",
      "        quanterr[i] = codebook[indx[i]]\n",
      "        inp = quanterr[i] + out;\n",
      "        x = np.append(inp,x[0:order-1])\n",
      "    return indx"
     ],
     "language": "python",
     "metadata": {},
     "outputs": [],
     "prompt_number": 3
    },
    {
     "cell_type": "code",
     "collapsed": false,
     "input": [
      "def bitPackDPCMModel(order,predictor,nCodeWords,codebook,sigLen,encodedx):\n",
      "    a=BitArray(uint=order, length=8)\n",
      "    b=BitArray().join(BitArray(float=x, length=32) for x in predictor.params)\n",
      "    a.append(b)\n",
      "    a.append(BitArray(uint=int(nCodeWords), length=8))\n",
      "    b=BitArray().join(BitArray(float=x, length=32) for x in codebook)\n",
      "    a.append(b)\n",
      "    a.append(BitArray(uint=int(sigLen), length=32))\n",
      "    nBits=int(np.ceil(np.log2(nCodeWords)));\n",
      "    b=BitArray().join(BitArray(uint=x, length=nBits) for x in encodedx)\n",
      "    a.append(b)\n",
      "    return(a)"
     ],
     "language": "python",
     "metadata": {},
     "outputs": [],
     "prompt_number": 29
    },
    {
     "cell_type": "code",
     "collapsed": false,
     "input": [
      "def dpcmBinenco(sig,order,nCodeWords):\n",
      "    partition, codebook, predictor = dpcmopt(sig,order,nCodeWords)\n",
      "    encodedx = dpcmencoAfterOpt(partition, codebook, predictor,sig)\n",
      "    sigLen=len(sig);\n",
      "    a=bitPackDPCMModel(order,predictor,nCodeWords,codebook,sigLen,encodedx)\n",
      "    return (a)"
     ],
     "language": "python",
     "metadata": {},
     "outputs": [],
     "prompt_number": 30
    },
    {
     "cell_type": "code",
     "collapsed": false,
     "input": [
      "def bitUnPackDPCMModel(a):\n",
      "    pos=0\n",
      "    order=a[0:8].int\n",
      "    pos+=8\n",
      "    string_blocks = (a[i:i+32] for i in range(pos, pos+32*(order+1), 32))\n",
      "    params=np.zeros(order+1)\n",
      "    count=0\n",
      "    for fl in string_blocks:\n",
      "        pos+=32\n",
      "        params[count]=fl.float\n",
      "        count+=1\n",
      "    nCodeWords=a[pos:pos+8].int\n",
      "    pos+=8\n",
      "    string_blocks = (a[i:i+32] for i in range(pos, pos+32*(nCodeWords), 32))\n",
      "    codebook=np.zeros(nCodeWords)\n",
      "    count=0\n",
      "    for fl in string_blocks:\n",
      "        pos+=32\n",
      "        codebook[count]=fl.float\n",
      "        count+=1\n",
      "    sigLen=a[pos:pos+32].int\n",
      "    pos+=32\n",
      "    nBits=int(np.ceil(np.log2(nCodeWords)));\n",
      "    string_blocks = (a[i:i+nBits] for i in range(pos, pos+nBits*(sigLen), nBits))\n",
      "    encodedx=np.zeros(sigLen)\n",
      "    count=0\n",
      "    for fl in string_blocks:\n",
      "        pos+=nBits\n",
      "        encodedx[count]=fl.uint\n",
      "        count+=1\n",
      "    am=ar_model.AR(range(0,sigLen))\n",
      "    predictor=am.fit(order)\n",
      "    predictor.params=params\n",
      "    return (codebook, predictor,encodedx)"
     ],
     "language": "python",
     "metadata": {},
     "outputs": [],
     "prompt_number": 31
    },
    {
     "cell_type": "code",
     "collapsed": false,
     "input": [
      "def dpcmdeco(codebook, predictor,indx):\n",
      "    indx=indx.astype(int)\n",
      "    order = len(predictor.params)-1\n",
      "    len_sig = len(indx)\n",
      "    quanterr = codebook[indx]\n",
      "    nSig=np.zeros_like(quanterr)\n",
      "    x = np.zeros(order);\n",
      "    for i in xrange(0,len_sig):\n",
      "        out = sum(np.append(1,x)*predictor.params)\n",
      "        nSig[i] = quanterr[i] + out;\n",
      "        x = np.append(nSig[i], x[0:order-1])\n",
      "    return(nSig)"
     ],
     "language": "python",
     "metadata": {},
     "outputs": [],
     "prompt_number": 7
    },
    {
     "cell_type": "code",
     "collapsed": false,
     "input": [
      "def dpcmBindeco(a):\n",
      "    codebook, predictor,encodedx = bitUnPackDPCMModel(a)\n",
      "    nSig = dpcmdeco(codebook, predictor,encodedx)\n",
      "    return(nSig)"
     ],
     "language": "python",
     "metadata": {},
     "outputs": [],
     "prompt_number": 8
    },
    {
     "cell_type": "code",
     "collapsed": false,
     "input": [
      "df = pd.read_csv('/home/muralib/code/data/Outside Weather_Temperature.csv', index_col=False, header=1,low_memory=False);\n",
      "df.columns=['TimeStamp','Temperature']\n",
      "df['TimeStamp']=pd.to_datetime(df['TimeStamp'])\n",
      "df=df.set_index(['TimeStamp'])\n",
      "df=df.Temperature.resample('5min')\n",
      "df=pd.DataFrame(list(df.values), index=df.index)\n",
      "df.columns=['Temperature']\n",
      "oldDf=df;\n",
      "df=df.fillna(method='bfill')"
     ],
     "language": "python",
     "metadata": {},
     "outputs": [],
     "prompt_number": 24
    },
    {
     "cell_type": "code",
     "collapsed": false,
     "input": [
      "sig=np.array(df['Temperature'])\n",
      "sig=sig-mean(sig)"
     ],
     "language": "python",
     "metadata": {},
     "outputs": [],
     "prompt_number": 57
    },
    {
     "cell_type": "code",
     "collapsed": false,
     "input": [
      "order=2; #ar model order \n",
      "st=2;\n",
      "en=20;\n",
      "stp=1;\n",
      "le=len(xrange(st,en,stp))\n",
      "repSize=np.zeros(le)\n",
      "distor=np.zeros(le)\n",
      "\n",
      "count=0\n",
      "for nCodeWords in xrange(st,en,stp):\n",
      "    print nCodeWords\n",
      "    # learn ar model of order ord\n",
      "    comp = dpcmBinenco(sig,order,nCodeWords)\n",
      "    repSize[count]=len(comp)\n",
      "    # decode\n",
      "    decodedx = dpcmBindeco(comp)\n",
      "    distor[count] = sum((sig-decodedx)**2)/len(sig)\n",
      "    count+=1\n"
     ],
     "language": "python",
     "metadata": {},
     "outputs": [
      {
       "output_type": "stream",
       "stream": "stdout",
       "text": [
        "2\n",
        "Success!"
       ]
      },
      {
       "output_type": "stream",
       "stream": "stdout",
       "text": [
        "\n",
        "3"
       ]
      },
      {
       "output_type": "stream",
       "stream": "stdout",
       "text": [
        "\n",
        "Success!"
       ]
      },
      {
       "output_type": "stream",
       "stream": "stdout",
       "text": [
        "\n",
        "4"
       ]
      },
      {
       "output_type": "stream",
       "stream": "stdout",
       "text": [
        "\n",
        "Success!"
       ]
      },
      {
       "output_type": "stream",
       "stream": "stdout",
       "text": [
        "\n",
        "5"
       ]
      },
      {
       "output_type": "stream",
       "stream": "stdout",
       "text": [
        "\n",
        "Success!"
       ]
      },
      {
       "output_type": "stream",
       "stream": "stdout",
       "text": [
        "\n",
        "6"
       ]
      },
      {
       "output_type": "stream",
       "stream": "stdout",
       "text": [
        "\n",
        "Success!"
       ]
      },
      {
       "output_type": "stream",
       "stream": "stdout",
       "text": [
        "\n",
        "7"
       ]
      },
      {
       "output_type": "stream",
       "stream": "stdout",
       "text": [
        "\n",
        "Success!"
       ]
      },
      {
       "output_type": "stream",
       "stream": "stdout",
       "text": [
        "\n",
        "8"
       ]
      },
      {
       "output_type": "stream",
       "stream": "stdout",
       "text": [
        "\n",
        "Success!"
       ]
      },
      {
       "output_type": "stream",
       "stream": "stdout",
       "text": [
        "\n",
        "9"
       ]
      },
      {
       "output_type": "stream",
       "stream": "stdout",
       "text": [
        "\n",
        "Success!"
       ]
      },
      {
       "output_type": "stream",
       "stream": "stdout",
       "text": [
        "\n",
        "10"
       ]
      },
      {
       "output_type": "stream",
       "stream": "stdout",
       "text": [
        "\n",
        "Success!"
       ]
      },
      {
       "output_type": "stream",
       "stream": "stdout",
       "text": [
        "\n",
        "11"
       ]
      },
      {
       "output_type": "stream",
       "stream": "stdout",
       "text": [
        "\n",
        "Success!"
       ]
      },
      {
       "output_type": "stream",
       "stream": "stdout",
       "text": [
        "\n",
        "12"
       ]
      },
      {
       "output_type": "stream",
       "stream": "stdout",
       "text": [
        "\n",
        "Success!"
       ]
      },
      {
       "output_type": "stream",
       "stream": "stdout",
       "text": [
        "\n",
        "13"
       ]
      },
      {
       "output_type": "stream",
       "stream": "stdout",
       "text": [
        "\n",
        "Success!"
       ]
      },
      {
       "output_type": "stream",
       "stream": "stdout",
       "text": [
        "\n",
        "14"
       ]
      },
      {
       "output_type": "stream",
       "stream": "stdout",
       "text": [
        "\n",
        "Success!"
       ]
      },
      {
       "output_type": "stream",
       "stream": "stdout",
       "text": [
        "\n",
        "15"
       ]
      },
      {
       "output_type": "stream",
       "stream": "stdout",
       "text": [
        "\n",
        "Success!"
       ]
      },
      {
       "output_type": "stream",
       "stream": "stdout",
       "text": [
        "\n",
        "16"
       ]
      },
      {
       "output_type": "stream",
       "stream": "stdout",
       "text": [
        "\n",
        "Success!"
       ]
      },
      {
       "output_type": "stream",
       "stream": "stdout",
       "text": [
        "\n",
        "17"
       ]
      },
      {
       "output_type": "stream",
       "stream": "stdout",
       "text": [
        "\n",
        "Success!"
       ]
      },
      {
       "output_type": "stream",
       "stream": "stdout",
       "text": [
        "\n",
        "18"
       ]
      },
      {
       "output_type": "stream",
       "stream": "stdout",
       "text": [
        "\n",
        "Success!"
       ]
      },
      {
       "output_type": "stream",
       "stream": "stdout",
       "text": [
        "\n",
        "19"
       ]
      },
      {
       "output_type": "stream",
       "stream": "stdout",
       "text": [
        "\n",
        "Success!"
       ]
      },
      {
       "output_type": "stream",
       "stream": "stdout",
       "text": [
        "\n"
       ]
      }
     ],
     "prompt_number": 58
    },
    {
     "cell_type": "code",
     "collapsed": false,
     "input": [
      "plot(repSize,distor)"
     ],
     "language": "python",
     "metadata": {},
     "outputs": [
      {
       "metadata": {},
       "output_type": "pyout",
       "prompt_number": 59,
       "text": [
        "[<matplotlib.lines.Line2D at 0x7fe5d9c1d2d0>]"
       ]
      },
      {
       "metadata": {},
       "output_type": "display_data",
       "png": "[encoded data removed]",
       "text": [
        "<matplotlib.figure.Figure at 0x7fe5d9ecd790>"
       ]
      }
     ],
     "prompt_number": 59
    },
    {
     "cell_type": "code",
     "collapsed": false,
     "input": [
      "repSize"
     ],
     "language": "python",
     "metadata": {},
     "outputs": [
      {
       "metadata": {},
       "output_type": "pyout",
       "prompt_number": 60,
       "text": [
        "array([  49754.,   99332.,   99364.,  148942.,  148974.,  149006.,\n",
        "        149038.,  198616.,  198648.,  198680.,  198712.,  198744.,\n",
        "        198776.,  198808.,  198840.,  248418.,  248450.,  248482.])"
       ]
      }
     ],
     "prompt_number": 60
    },
    {
     "cell_type": "code",
     "collapsed": false,
     "input": [
      "nCodeWords=4\n",
      "# learn ar model of order ord\n",
      "comp = dpcmBinenco(sig,order,nCodeWords)\n",
      "# decode\n",
      "decodedx = dpcmBindeco(comp)\n",
      "plot(sig)\n",
      "plot(decodedx)\n",
      "legend(['Original Signal','Decoded Signal'])\n",
      "print \"Compression Size : \" + str(len(comp))\n",
      "print \"Average Distortion : \" + str(sum((sig-decodedx)**2)/len(sig))"
     ],
     "language": "python",
     "metadata": {},
     "outputs": [
      {
       "output_type": "stream",
       "stream": "stdout",
       "text": [
        "Success!\n",
        "Compression Size : 99364"
       ]
      },
      {
       "output_type": "stream",
       "stream": "stdout",
       "text": [
        "\n",
        "Average Distortion : 12.7355486694\n"
       ]
      },
      {
       "metadata": {},
       "output_type": "display_data",
       "png": "[encoded data removed]",
       "text": [
        "<matplotlib.figure.Figure at 0x7fe5d7165bd0>"
       ]
      }
     ],
     "prompt_number": 72
    },
    {
     "cell_type": "code",
     "collapsed": false,
     "input": [
      "# switching models\n",
      "nCodeWords=4\n",
      "sig1 = sig[0:17000]\n",
      "sig2 = sig[17000:]\n",
      "comp1 = dpcmBinenco(sig1,order,nCodeWords)\n",
      "comp2 = dpcmBinenco(sig2,order,nCodeWords)\n",
      "\n",
      "decodedx1 = dpcmBindeco(comp1)\n",
      "decodedx2 = dpcmBindeco(comp2)\n",
      "\n",
      "plot(np.append(sig1,sig2))\n",
      "plot(np.append(decodedx1,decodedx2))\n",
      "legend(['Original Signal','Decoded Signal'])\n",
      "\n",
      "print \"Compression Size : \" + str(len(comp1) + len(comp2))\n",
      "print \"Average Distortion : \" + str((sum((sig1-decodedx1)**2) + sum((sig2-decodedx2)**2))/len(sig))\n"
     ],
     "language": "python",
     "metadata": {},
     "outputs": [
      {
       "output_type": "stream",
       "stream": "stdout",
       "text": [
        "Compression Size : 99636\n",
        "Average Distortion : 1.83121376978\n"
       ]
      },
      {
       "metadata": {},
       "output_type": "display_data",
       "png": "[encoded data removed]",
       "text": [
        "<matplotlib.figure.Figure at 0x7fe5d9b11bd0>"
       ]
      }
     ],
     "prompt_number": 74
    },
    {
     "cell_type": "code",
     "collapsed": false,
     "input": [],
     "language": "python",
     "metadata": {},
     "outputs": []
    }
   ],
   "metadata": {}
  }
 ]
}